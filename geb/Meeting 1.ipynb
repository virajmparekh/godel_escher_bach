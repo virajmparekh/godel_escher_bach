{
 "cells": [
  {
   "cell_type": "markdown",
   "metadata": {},
   "source": [
    "# Meeting 1: Astro Book Club"
   ]
  },
  {
   "cell_type": "markdown",
   "metadata": {},
   "source": [
    "_Background_"
   ]
  },
  {
   "cell_type": "markdown",
   "metadata": {},
   "source": [
    "As the book traverses from theme to theme, weaving in some bullshit analogy with some god-foresaken story about a smart-ass tourtoise and Achillies, there's an underyling (and beautiful) question that Hofstader focuses on:\n",
    "\n",
    "### \"How does a self come out of things that have no-self?\"\n",
    "\n",
    "\n",
    "To be clear here, his definition of a \"self\" is something that can refer to itself; something that's aware of it's own existence.Think back to that philosophy class you had to sit through when you woke from your nap to your professor talking about how some man named Rene said _\"Cogito ergo sum,\"_ or  \"I think therefore I am\" in English.\n",
    "\n",
    "\n",
    "Hofstader is a smart dude  (if you haven't already noticed). He studied math at Stanford and got a masters in physics at MIT and was fascinated this idea that a bunch of atoms buzzing around form things with a \"self,\" things with meaning, things thare aware of their own existence. \n",
    "\n",
    "\n",
    "For some reason, Hofstader thought the answer layed in something called formal systems and his bias is pretty apaarent, as he spends the first few chapters painstakingly defining what they are.\n",
    "\n",
    "Here's how my dinosaur brain thinks about them:\n",
    "\n",
    "_Formal systems are just sets of symbols and manipulatable rules._\n",
    "\n",
    "This is a really handwavey definition that you should never say outloud in the presence of a math professor, but we'll run with it for now until we gain some tools that'll let us better explain what they actually mean.\n"
   ]
  },
  {
   "cell_type": "markdown",
   "metadata": {},
   "source": [
    "# Dialogue 1: Three Part Invention"
   ]
  },
  {
   "cell_type": "markdown",
   "metadata": {},
   "source": [
    "Wikipedia defines *Zeno's paradox* as a set of philisophical arguements that argue that contrary to the evidence of one's senses, the belief in plurality and change is mistaken, and in particular that motion is nothing but an illusion."
   ]
  },
  {
   "cell_type": "markdown",
   "metadata": {},
   "source": [
    "Zeno's paradox is actually an early attempt at the concept of infinite sums, which is pretty much all of calculus. The ancient Greeks actually came really close to figuring all that shit out.... Eudoxus and Archimedes invented a form of heuristics to calculate the area of a circle.\n"
   ]
  },
  {
   "cell_type": "markdown",
   "metadata": {},
   "source": [
    "$$\\pi = \\frac{Area}{r^2}$$"
   ]
  },
  {
   "cell_type": "markdown",
   "metadata": {},
   "source": [
    "Zeno's paradox is actually a way of calculating infinite sums. In Zeno's time, you couldn't really just \"add all the values\" because since there are infinite values, you're never \"done adding.\" There are some cool tricks around this though:"
   ]
  },
  {
   "cell_type": "markdown",
   "metadata": {},
   "source": [
    "Consider this:"
   ]
  },
  {
   "cell_type": "markdown",
   "metadata": {},
   "source": [
    "$$1 + \\frac{1}{2} + \\frac{1}{4} + \\frac{1}{8} ....$$"
   ]
  },
  {
   "cell_type": "markdown",
   "metadata": {},
   "source": [
    "Suppose we say:"
   ]
  },
  {
   "cell_type": "markdown",
   "metadata": {},
   "source": [
    "$$ S = 1 + \\frac{1}{2} + \\frac{1}{4} + \\frac{1}{8} ....$$"
   ]
  },
  {
   "cell_type": "markdown",
   "metadata": {},
   "source": [
    "$$ \\frac{1}{2}S = \\frac{1}{2}  + \\frac{1}{4} +\\frac{1}{8}  .. $$"
   ]
  },
  {
   "cell_type": "markdown",
   "metadata": {},
   "source": [
    "_Subract those two equations:_\n",
    "\n"
   ]
  },
  {
   "cell_type": "markdown",
   "metadata": {},
   "source": [
    "$$\\frac{S}{2} = 1 + .... $$\n"
   ]
  },
  {
   "cell_type": "markdown",
   "metadata": {},
   "source": [
    "$$ S = 2  $$"
   ]
  },
  {
   "cell_type": "markdown",
   "metadata": {},
   "source": [
    "Just moving some stuff around gives us a \"solution\" to Zeno's paradox. Clearly, motion is possible, and we can add a list of infinite things.\n",
    "\n",
    "The important thing here is not the proof, but how the use of symbols (i.e. in the first line, _S_ is a sum that we don't know exists or not) and notation allows us to wrap our minds around concepts that we couldn't do otherwise.\n",
    "\n",
    "Though this problem might not look too bad depending on your mathematical background, developing the system that lets us concisely express and manipulate all of the concepts involved (infinite sums, manipulating both sides of an equation, subtracting equations from other equations, etc.) took **hundreds** of years to develop. \n",
    "\n",
    "What's important, and what most often gets lost in schools, and is a major theme for the rest of the book, is to understand the concepts beyond the symbolic manipulation."
   ]
  },
  {
   "cell_type": "markdown",
   "metadata": {},
   "source": [
    "# THE MU PUZZLE\n",
    "\n",
    "Let's keep track of definitions for easy reference.\n",
    " - A **string** is simply an ordered sequence of M’s, I’s, and U’s.\n",
    " \n",
    " - A **theorem** is a string produced (proved) by the rules of the formal system.\n",
    "  \n",
    " - An **axiom** is a starting point assumed to be true in a formal system.\n",
    " \n",
    " - The rules detailed above are rules of **production** or rules of **inference.**\n",
    " - A **derivation** is a demonstration of how to produce one theorem from another theorem."
   ]
  },
  {
   "cell_type": "markdown",
   "metadata": {},
   "source": [
    "Hofstader defines three methods of thinking:\n",
    "    - Mechanical Mode (M-Mode).\n",
    "    - Intellligent Mode (I - Mode).\n",
    "    - Un-Mode (U-Mode).\n",
    "Notice he calls U mode \"Zen mode.\" More on that later."
   ]
  },
  {
   "cell_type": "markdown",
   "metadata": {},
   "source": [
    "### The Puzzle"
   ]
  },
  {
   "cell_type": "markdown",
   "metadata": {},
   "source": [
    "LETTERS: M, I, U:\n",
    "    \n",
    "OUR SOUL POSSESSION: MI\n",
    "    \n",
    "    \n",
    "**RULE I:** If you possess a string who last letter s I, you can add on a U at the end.\n",
    "\n",
    "**RULE II:** Suppose you have Mx. then you may add Mxx to your collection.\n",
    "\n",
    "**RULE III:** If III occurs in one of the strings in your collection, you may make a new string with\n",
    "U in place of III.\n",
    "\n",
    "**RULE IV:** If UU occurs inside one of your strings, you can drop it\n",
    "\n",
    "**How do we get from MI to MU?**"
   ]
  },
  {
   "cell_type": "markdown",
   "metadata": {},
   "source": [
    "## Solution:"
   ]
  },
  {
   "cell_type": "markdown",
   "metadata": {},
   "source": [
    "Well, surprise surprise, Can anyone explain why?"
   ]
  },
  {
   "cell_type": "markdown",
   "metadata": {},
   "source": [
    "Question: Why did he use the letters M,I, and U?"
   ]
  },
  {
   "cell_type": "markdown",
   "metadata": {},
   "source": [
    "## Jumping Outside the System:"
   ]
  },
  {
   "cell_type": "markdown",
   "metadata": {},
   "source": [
    "If you only knew the rules in the system and operated only by them, you'd never have found the answer. This first point Hofstader makes is something that you'll find time and time again in literature and math/science, and is a fundamental part of **Astronomer's** culture; to find the answer, you have to think outside the rules of whatever formal system you're operating in."
   ]
  },
  {
   "cell_type": "markdown",
   "metadata": {},
   "source": [
    "_Of course, there are cases where only a rare individual will have the vision to perceive\n",
    "a system which governs many people’ lives, a system which had never before even been\n",
    "recognized as a system; then such people often devote their lives to convincing other\n",
    "people that the system really is there, and that it ought to be exited from!_ **page 39.**"
   ]
  },
  {
   "cell_type": "code",
   "execution_count": null,
   "metadata": {
    "collapsed": true
   },
   "outputs": [],
   "source": []
  }
 ],
 "metadata": {
  "anaconda-cloud": {},
  "kernelspec": {
   "display_name": "Python [default]",
   "language": "python",
   "name": "python2"
  },
  "language_info": {
   "codemirror_mode": {
    "name": "ipython",
    "version": 2
   },
   "file_extension": ".py",
   "mimetype": "text/x-python",
   "name": "python",
   "nbconvert_exporter": "python",
   "pygments_lexer": "ipython2",
   "version": "2.7.12"
  }
 },
 "nbformat": 4,
 "nbformat_minor": 2
}
